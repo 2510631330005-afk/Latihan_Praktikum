{
  "nbformat": 4,
  "nbformat_minor": 0,
  "metadata": {
    "colab": {
      "provenance": [],
      "authorship_tag": "ABX9TyNFNMK2YxqP9ka8n62nYopl",
      "include_colab_link": true
    },
    "kernelspec": {
      "name": "python3",
      "display_name": "Python 3"
    },
    "language_info": {
      "name": "python"
    }
  },
  "cells": [
    {
      "cell_type": "markdown",
      "metadata": {
        "id": "view-in-github",
        "colab_type": "text"
      },
      "source": [
        "<a href=\"https://colab.research.google.com/github/2510631330005-afk/Latihan_Praktikum/blob/main/Modul_4_Simulasi_Gerak_Lurus_dengan_Percepatan_Konstan.ipynb\" target=\"_parent\"><img src=\"https://colab.research.google.com/assets/colab-badge.svg\" alt=\"Open In Colab\"/></a>"
      ]
    },
    {
      "cell_type": "code",
      "execution_count": 25,
      "metadata": {
        "colab": {
          "base_uri": "https://localhost:8080/"
        },
        "id": "TvW_FgtLmMTo",
        "outputId": "83e78768-db29-428a-a0a5-c5945bb73c09"
      },
      "outputs": [
        {
          "output_type": "stream",
          "name": "stdout",
          "text": [
            "Simulasi Gerak Lurus dengan Percepatan Konstan\n",
            "Masukkan massa benda (kg): 3\n",
            "Masukkan posisi awal (m): 12\n",
            "Masukkan kecepatan awal (m/s): 2\n",
            "Masukkan percepatan (m/s^2): 1.5\n",
            "Masukkan total waktu simulasi (): 10\n",
            "Masukkan interval waktu (s): 2\n",
            "\n",
            "===========================================================================\n",
            "Waktu (s)   Posisi (m)     Kecepatan (m/s)     EK (Joule)     EP (Joule)     \n",
            "===========================================================================\n",
            "0.0         12.00          2.00                6.00           352.80         \n",
            "2.0         19.00          5.00                37.50          558.60         \n",
            "4.0         32.00          8.00                96.00          940.80         \n",
            "6.0         51.00          11.00               181.50         1499.40        \n",
            "8.0         76.00          14.00               294.00         2234.40        \n",
            "10.0        107.00         17.00               433.50         3145.80        \n",
            "===========================================================================\n"
          ]
        }
      ],
      "source": [
        "def simulasi_gerak_lurus_lengkap():\n",
        "    print(\"Simulasi Gerak Lurus dengan Percepatan Konstan\")\n",
        "\n",
        "    m = float(input(\"Masukkan massa benda (kg): \"))\n",
        "    s0 = float(input(\"Masukkan posisi awal (m): \"))\n",
        "    v0 = float(input(\"Masukkan kecepatan awal (m/s): \"))\n",
        "    a = float(input(\"Masukkan percepatan (m/s^2): \"))\n",
        "    t_total = int(input(\"Masukkan total waktu simulasi (): \"))\n",
        "    dt = float(input(\"Masukkan interval waktu (s): \"))\n",
        "    g = 9.8\n",
        "\n",
        "    t = 0\n",
        "\n",
        "    print(\"\\n\" + \"=\"*75)\n",
        "    print(f\"{'Waktu (s)':<12}{'Posisi (m)':<15}{'Kecepatan (m/s)':<20}{'EK (Joule)':<15}{'EP (Joule)':<15}\")\n",
        "    print(\"=\"*75)\n",
        "\n",
        "    while t <= t_total:\n",
        "        s = s0 + v0 * t + 0.5 * a * t**2\n",
        "        v = v0 + a * t\n",
        "        ek = 0.5 * m * v**2\n",
        "        ep = m * g * s\n",
        "\n",
        "        print(f\"{t:<12.1f}{s:<15.2f}{v:<20.2f}{ek:<15.2f}{ep:<15.2f}\")\n",
        "\n",
        "        t += dt\n",
        "    print(\"=\"*75)\n",
        "\n",
        "if __name__ == \"__main__\":\n",
        "    simulasi_gerak_lurus_lengkap()"
      ]
    }
  ]
}